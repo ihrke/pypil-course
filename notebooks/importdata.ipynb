{
 "cells": [
  {
   "cell_type": "markdown",
   "metadata": {},
   "source": [
    "# Importing Data Example\n",
    "\n",
    "In order to import data into `pypillometry`, we have to load the data from the source using other packages and then wrap it into `PupilData` objects. \n",
    "\n",
    "Here we will show and example where we translate a file recorded in Eyelinks EDF-format to a file readable by `pandas.read_table()`.\n",
    "\n",
    "First, we import the needed modules."
   ]
  },
  {
   "cell_type": "code",
   "execution_count": 1,
   "metadata": {},
   "outputs": [],
   "source": [
    "import sys\n",
    "sys.path.insert(0,\"..\") # this is not needed if you have installed pypillometry\n",
    "import pypillometry as pp\n",
    "import pandas as pd\n",
    "import numpy as np\n",
    "import pylab as plt"
   ]
  },
  {
   "cell_type": "markdown",
   "metadata": {},
   "source": [
    "In this example, we use data recorded with an Eyelink-eyetracker. These eyetrackers store the files in binary files with the extension `.edf`. Some information about this file-format is [here](http://download.sr-support.com/dispdoc/page25.html). We use a command-line utility released by Eyelink to convert this proprietory format into a more easily read `.asc` file that is a whitespace-separated plain-text format. The converter, `edf2asc` is a program that can be downloaded for different platforms from the [Eyelink support forum](https://www.sr-research.com/support/). There is a GUI-based program for windows and command-line programs for linux and mac. Binaries of the command-line tools for linux and mac are included in `pypillometry` under [this link](https://github.com/ihrke/pypillometry/tree/master/external). On linux, we would call these programs on an example edf-file twice as follows."
   ]
  },
  {
   "cell_type": "code",
   "execution_count": 2,
   "metadata": {},
   "outputs": [
    {
     "name": "stdout",
     "output_type": "stream",
     "text": [
      "\n",
      "EDF2ASC: EyeLink EDF file -> ASCII (text) file translator\n",
      "EDF2ASC version 3.0 Linux Dec  1 2008 \n",
      "(c)1995-2007 by SR Research, last modified Dec  1 2008\n",
      "\n",
      "processing file ../data/test.edf \n",
      "=======================Preamble of file ../data/test.edf=======================\n",
      "| DATE: Fri Feb 14 08:48:33 2020                                              |\n",
      "| TYPE: EDF_FILE BINARY EVENT SAMPLE TAGGED                                   |\n",
      "| VERSION: EYELINK II 1                                                       |\n",
      "| SOURCE: EYELINK CL                                                          |\n",
      "| EYELINK II CL v6.12 Feb  1 2018 (EyeLink Portable Duo)                      |\n",
      "| CAMERA: EyeLink USBCAM Version 1.01                                         |\n",
      "| SERIAL NUMBER: CLU-DAC49                                                    |\n",
      "| CAMERA_CONFIG: DAC49200.SCD                                                 |\n",
      "| Psychopy GC demo                                                            |\n",
      "===============================================================================\n",
      "\n",
      "Converted successfully: 0 events, 1245363 samples, 6 blocks.\n",
      "\n",
      "EDF2ASC: EyeLink EDF file -> ASCII (text) file translator\n",
      "EDF2ASC version 3.0 Linux Dec  1 2008 \n",
      "(c)1995-2007 by SR Research, last modified Dec  1 2008\n",
      "\n",
      "processing file ../data/test.edf \n",
      "=======================Preamble of file ../data/test.edf=======================\n",
      "| DATE: Fri Feb 14 08:48:33 2020                                              |\n",
      "| TYPE: EDF_FILE BINARY EVENT SAMPLE TAGGED                                   |\n",
      "| VERSION: EYELINK II 1                                                       |\n",
      "| SOURCE: EYELINK CL                                                          |\n",
      "| EYELINK II CL v6.12 Feb  1 2018 (EyeLink Portable Duo)                      |\n",
      "| CAMERA: EyeLink USBCAM Version 1.01                                         |\n",
      "| SERIAL NUMBER: CLU-DAC49                                                    |\n",
      "| CAMERA_CONFIG: DAC49200.SCD                                                 |\n",
      "| Psychopy GC demo                                                            |\n",
      "===============================================================================\n",
      "\n",
      "Converted successfully: 37139 events, 0 samples, 6 blocks.\n"
     ]
    }
   ],
   "source": [
    "!../external/edf2asc-linux -y -s ../data/test.edf ../data/test_samples.asc\n",
    "!../external/edf2asc-linux -y -e ../data/test.edf ../data/test_events.asc"
   ]
  },
  {
   "cell_type": "markdown",
   "metadata": {},
   "source": [
    "This results in two files, one containing all the samples and one all the recorded events."
   ]
  },
  {
   "cell_type": "code",
   "execution_count": 3,
   "metadata": {},
   "outputs": [],
   "source": [
    "fname_samples=\"../data/test_samples.asc\"\n",
    "fname_events=\"../data/test_events.asc\""
   ]
  },
  {
   "cell_type": "markdown",
   "metadata": {},
   "source": [
    "The samples-files contains a large table containing the timestamp, x/y-coordinates for the eyeposition and pupil-area for both the left and the right eye. Here are the first few rows of this file:"
   ]
  },
  {
   "cell_type": "code",
   "execution_count": 4,
   "metadata": {},
   "outputs": [
    {
     "name": "stdout",
     "output_type": "stream",
     "text": [
      "3385900\t  817.3\t  345.2\t 1707.0\t  860.6\t  375.2\t 1738.0\t.....\r\n",
      "3385902\t  817.0\t  343.5\t 1706.0\t  860.7\t  375.9\t 1739.0\t.....\r\n",
      "3385904\t  816.7\t  341.6\t 1705.0\t  861.2\t  376.6\t 1739.0\t.....\r\n",
      "3385906\t  816.7\t  340.4\t 1706.0\t  861.7\t  376.8\t 1740.0\t.....\r\n",
      "3385908\t  816.7\t  340.2\t 1707.0\t  861.6\t  376.9\t 1742.0\t.....\r\n",
      "3385910\t  816.8\t  340.2\t 1708.0\t  861.1\t  377.1\t 1743.0\t.....\r\n",
      "3385912\t  816.9\t  340.9\t 1708.0\t  860.7\t  377.5\t 1744.0\t.....\r\n",
      "3385914\t  816.1\t  342.1\t 1710.0\t  861.1\t  378.7\t 1745.0\t.....\r\n",
      "3385916\t  815.2\t  343.2\t 1712.0\t  862.5\t  380.0\t 1746.0\t.....\r\n",
      "3385918\t  814.4\t  343.6\t 1713.0\t  863.9\t  380.7\t 1747.0\t.....\r\n"
     ]
    }
   ],
   "source": [
    "!head $fname_samples"
   ]
  },
  {
   "cell_type": "markdown",
   "metadata": {},
   "source": [
    "We can easily read this file using `pandas.read_csv()`."
   ]
  },
  {
   "cell_type": "code",
   "execution_count": 5,
   "metadata": {},
   "outputs": [
    {
     "data": {
      "text/html": [
       "<div>\n",
       "<style scoped>\n",
       "    .dataframe tbody tr th:only-of-type {\n",
       "        vertical-align: middle;\n",
       "    }\n",
       "\n",
       "    .dataframe tbody tr th {\n",
       "        vertical-align: top;\n",
       "    }\n",
       "\n",
       "    .dataframe thead th {\n",
       "        text-align: right;\n",
       "    }\n",
       "</style>\n",
       "<table border=\"1\" class=\"dataframe\">\n",
       "  <thead>\n",
       "    <tr style=\"text-align: right;\">\n",
       "      <th></th>\n",
       "      <th>time</th>\n",
       "      <th>left_x</th>\n",
       "      <th>left_y</th>\n",
       "      <th>left_p</th>\n",
       "      <th>right_x</th>\n",
       "      <th>right_y</th>\n",
       "      <th>right_p</th>\n",
       "    </tr>\n",
       "  </thead>\n",
       "  <tbody>\n",
       "    <tr>\n",
       "      <th>0</th>\n",
       "      <td>3385900</td>\n",
       "      <td>817.3</td>\n",
       "      <td>345.2</td>\n",
       "      <td>1707.0</td>\n",
       "      <td>860.6</td>\n",
       "      <td>375.2</td>\n",
       "      <td>1738.0</td>\n",
       "    </tr>\n",
       "    <tr>\n",
       "      <th>1</th>\n",
       "      <td>3385902</td>\n",
       "      <td>817.0</td>\n",
       "      <td>343.5</td>\n",
       "      <td>1706.0</td>\n",
       "      <td>860.7</td>\n",
       "      <td>375.9</td>\n",
       "      <td>1739.0</td>\n",
       "    </tr>\n",
       "    <tr>\n",
       "      <th>2</th>\n",
       "      <td>3385904</td>\n",
       "      <td>816.7</td>\n",
       "      <td>341.6</td>\n",
       "      <td>1705.0</td>\n",
       "      <td>861.2</td>\n",
       "      <td>376.6</td>\n",
       "      <td>1739.0</td>\n",
       "    </tr>\n",
       "    <tr>\n",
       "      <th>3</th>\n",
       "      <td>3385906</td>\n",
       "      <td>816.7</td>\n",
       "      <td>340.4</td>\n",
       "      <td>1706.0</td>\n",
       "      <td>861.7</td>\n",
       "      <td>376.8</td>\n",
       "      <td>1740.0</td>\n",
       "    </tr>\n",
       "    <tr>\n",
       "      <th>4</th>\n",
       "      <td>3385908</td>\n",
       "      <td>816.7</td>\n",
       "      <td>340.2</td>\n",
       "      <td>1707.0</td>\n",
       "      <td>861.6</td>\n",
       "      <td>376.9</td>\n",
       "      <td>1742.0</td>\n",
       "    </tr>\n",
       "    <tr>\n",
       "      <th>...</th>\n",
       "      <td>...</td>\n",
       "      <td>...</td>\n",
       "      <td>...</td>\n",
       "      <td>...</td>\n",
       "      <td>...</td>\n",
       "      <td>...</td>\n",
       "      <td>...</td>\n",
       "    </tr>\n",
       "    <tr>\n",
       "      <th>1245358</th>\n",
       "      <td>5923060</td>\n",
       "      <td>.</td>\n",
       "      <td>.</td>\n",
       "      <td>0.0</td>\n",
       "      <td>.</td>\n",
       "      <td>.</td>\n",
       "      <td>0.0</td>\n",
       "    </tr>\n",
       "    <tr>\n",
       "      <th>1245359</th>\n",
       "      <td>5923062</td>\n",
       "      <td>.</td>\n",
       "      <td>.</td>\n",
       "      <td>0.0</td>\n",
       "      <td>.</td>\n",
       "      <td>.</td>\n",
       "      <td>0.0</td>\n",
       "    </tr>\n",
       "    <tr>\n",
       "      <th>1245360</th>\n",
       "      <td>5923064</td>\n",
       "      <td>.</td>\n",
       "      <td>.</td>\n",
       "      <td>0.0</td>\n",
       "      <td>.</td>\n",
       "      <td>.</td>\n",
       "      <td>0.0</td>\n",
       "    </tr>\n",
       "    <tr>\n",
       "      <th>1245361</th>\n",
       "      <td>5923066</td>\n",
       "      <td>.</td>\n",
       "      <td>.</td>\n",
       "      <td>0.0</td>\n",
       "      <td>.</td>\n",
       "      <td>.</td>\n",
       "      <td>0.0</td>\n",
       "    </tr>\n",
       "    <tr>\n",
       "      <th>1245362</th>\n",
       "      <td>5923068</td>\n",
       "      <td>.</td>\n",
       "      <td>.</td>\n",
       "      <td>0.0</td>\n",
       "      <td>.</td>\n",
       "      <td>.</td>\n",
       "      <td>0.0</td>\n",
       "    </tr>\n",
       "  </tbody>\n",
       "</table>\n",
       "<p>1245363 rows × 7 columns</p>\n",
       "</div>"
      ],
      "text/plain": [
       "            time   left_x   left_y  left_p  right_x  right_y  right_p\n",
       "0        3385900    817.3    345.2  1707.0    860.6    375.2   1738.0\n",
       "1        3385902    817.0    343.5  1706.0    860.7    375.9   1739.0\n",
       "2        3385904    816.7    341.6  1705.0    861.2    376.6   1739.0\n",
       "3        3385906    816.7    340.4  1706.0    861.7    376.8   1740.0\n",
       "4        3385908    816.7    340.2  1707.0    861.6    376.9   1742.0\n",
       "...          ...      ...      ...     ...      ...      ...      ...\n",
       "1245358  5923060        .        .     0.0        .        .      0.0\n",
       "1245359  5923062        .        .     0.0        .        .      0.0\n",
       "1245360  5923064        .        .     0.0        .        .      0.0\n",
       "1245361  5923066        .        .     0.0        .        .      0.0\n",
       "1245362  5923068        .        .     0.0        .        .      0.0\n",
       "\n",
       "[1245363 rows x 7 columns]"
      ]
     },
     "execution_count": 5,
     "metadata": {},
     "output_type": "execute_result"
    }
   ],
   "source": [
    "df=pd.read_table(fname_samples, index_col=False, \n",
    "                  names=[\"time\", \"left_x\", \"left_y\", \"left_p\", \n",
    "                         \"right_x\", \"right_y\", \"right_p\"])\n",
    "df"
   ]
  },
  {
   "cell_type": "markdown",
   "metadata": {},
   "source": [
    "We can already use this information to create our `PupilData`-object. We simply pass in the pupil-area of the right eye (column `right_p`) and the timestamp-array from the samples-file (Note: we could just as easily have used the left eye or the mean of both):"
   ]
  },
  {
   "cell_type": "code",
   "execution_count": 6,
   "metadata": {},
   "outputs": [
    {
     "data": {
      "text/plain": [
       "PupilData(test):\n",
       " n                 : 1245363\n",
       " nmiss             : 189325\n",
       " perc_miss         : 15.202394803764044\n",
       " nevents           : 0\n",
       " nblinks           : 0\n",
       " ninterpolated     : 0\n",
       " blinks_per_min    : 0.0\n",
       " fs                : 500.0\n",
       " duration_minutes  : 41.512100000000004\n",
       " start_min         : 56.431666666666665\n",
       " end_min           : 98.7178\n",
       " baseline_estimated: False\n",
       " response_estimated: False"
      ]
     },
     "execution_count": 6,
     "metadata": {},
     "output_type": "execute_result"
    }
   ],
   "source": [
    "pp.PupilData(df.right_p, time=df.time, name=\"test\")"
   ]
  },
  {
   "cell_type": "markdown",
   "metadata": {},
   "source": [
    "Of course, this dataset is still missing the important information contained in the event-file which we will use for analysing trial-related pupil-diameter data. For that, we will have to read the events-file, which has a more complicated structure than the samples-file: "
   ]
  },
  {
   "cell_type": "code",
   "execution_count": 7,
   "metadata": {},
   "outputs": [
    {
     "name": "stdout",
     "output_type": "stream",
     "text": [
      "** CONVERTED FROM ../data/test.edf using edfapi 3.0 Linux Dec  1 2008 on Tue Feb 18 13:57:48 2020\r\n",
      "** DATE: Fri Feb 14 08:48:33 2020\r\n",
      "** TYPE: EDF_FILE BINARY EVENT SAMPLE TAGGED\r\n",
      "** VERSION: EYELINK II 1\r\n",
      "** SOURCE: EYELINK CL\r\n",
      "** EYELINK II CL v6.12 Feb  1 2018 (EyeLink Portable Duo)\r\n",
      "** CAMERA: EyeLink USBCAM Version 1.01\r\n",
      "** SERIAL NUMBER: CLU-DAC49\r\n",
      "** CAMERA_CONFIG: DAC49200.SCD\r\n",
      "** Psychopy GC demo\r\n",
      "**\r\n",
      "\r\n",
      "MSG\t2728855 DISPLAY_COORDS = 0 0 1919 1079\r\n",
      "INPUT\t2767568\t0\r\n",
      "MSG\t2784000 !CAL \r\n",
      ">>>>>>> CALIBRATION (HV9,P-CR) FOR LEFT: <<<<<<<<<\r\n",
      "MSG\t2784000 !CAL Calibration points:  \r\n",
      "MSG\t2784000 !CAL -29.4, -23.5        -0,     -2   \r\n",
      "MSG\t2784000 !CAL -29.3, -35.7        -0,  -1544   \r\n",
      "MSG\t2784000 !CAL -32.9, -10.4        -0,   1559   \r\n"
     ]
    }
   ],
   "source": [
    "!head -20 $fname_events"
   ]
  },
  {
   "cell_type": "markdown",
   "metadata": {},
   "source": [
    "After a header (lines starting with '\\*\\*') containing meta-information, we get a sequence of \"events\" which have different formats for all rows. We are interested in lines starting with \"MSG\" because those contain our experimental markers. Therefore, we read the samples file and remove all rows that do not start with \"MSG\" first:"
   ]
  },
  {
   "cell_type": "code",
   "execution_count": 8,
   "metadata": {},
   "outputs": [
    {
     "data": {
      "text/plain": [
       "['MSG\\t2728855 DISPLAY_COORDS = 0 0 1919 1079\\n',\n",
       " 'MSG\\t2784000 !CAL \\n',\n",
       " 'MSG\\t2784000 !CAL Calibration points:  \\n',\n",
       " 'MSG\\t2784000 !CAL -29.4, -23.5        -0,     -2   \\n',\n",
       " 'MSG\\t2784000 !CAL -29.3, -35.7        -0,  -1544   \\n',\n",
       " 'MSG\\t2784000 !CAL -32.9, -10.4        -0,   1559   \\n',\n",
       " 'MSG\\t2784000 !CAL -49.7, -23.0     -2835,     -2   \\n',\n",
       " 'MSG\\t2784000 !CAL -10.8, -27.4      2835,     -2   \\n',\n",
       " 'MSG\\t2784000 !CAL -48.3, -33.3     -2818,  -1544   \\n',\n",
       " 'MSG\\t2784000 !CAL -11.0, -34.2      2818,  -1544   \\n']"
      ]
     },
     "execution_count": 8,
     "metadata": {},
     "output_type": "execute_result"
    }
   ],
   "source": [
    "# read the whole file into variable `events` (list with one entry per line)\n",
    "with open(fname_events) as f:\n",
    "    events=f.readlines()\n",
    "\n",
    "# keep only lines starting with \"MSG\"\n",
    "events=[ev for ev in events if ev.startswith(\"MSG\")]\n",
    "events[0:10]"
   ]
  },
  {
   "cell_type": "markdown",
   "metadata": {},
   "source": [
    "Next, we added an experimental marker that was sent as the experiment was started. This marker was called `experiment_start`. Hence, we can remove all events before this marker."
   ]
  },
  {
   "cell_type": "code",
   "execution_count": 9,
   "metadata": {},
   "outputs": [
    {
     "data": {
      "text/plain": [
       "['MSG\\t3387245 C_GW_1_1_UD_UD\\n',\n",
       " 'MSG\\t3390421 F_GW_1_1_10_0\\n',\n",
       " 'MSG\\t3392759 C_NW_1_2_UD_UD\\n',\n",
       " 'MSG\\t3394293 R_NW_1_2_UD_UD\\n',\n",
       " 'MSG\\t3395952 F_NW_1_2_-1_0\\n',\n",
       " 'MSG\\t3397974 C_NA_1_3_UD_UD\\n',\n",
       " 'MSG\\t3399892 R_NA_1_3_UD_UD\\n',\n",
       " 'MSG\\t3400999 F_NA_1_3_-11_0\\n',\n",
       " 'MSG\\t3403206 C_GA_1_4_UD_UD\\n',\n",
       " 'MSG\\t3404640 R_GA_1_4_UD_UD\\n']"
      ]
     },
     "execution_count": 9,
     "metadata": {},
     "output_type": "execute_result"
    }
   ],
   "source": [
    "experiment_start_index=np.where([\"experiment_start\" in ev for ev in events])[0][0]\n",
    "events=events[experiment_start_index+1:]\n",
    "events[0:10]"
   ]
  },
  {
   "cell_type": "markdown",
   "metadata": {},
   "source": [
    "This is in a format where we can convert it into a `pandas.DataFrame` object for further processing."
   ]
  },
  {
   "cell_type": "code",
   "execution_count": 10,
   "metadata": {},
   "outputs": [
    {
     "data": {
      "text/html": [
       "<div>\n",
       "<style scoped>\n",
       "    .dataframe tbody tr th:only-of-type {\n",
       "        vertical-align: middle;\n",
       "    }\n",
       "\n",
       "    .dataframe tbody tr th {\n",
       "        vertical-align: top;\n",
       "    }\n",
       "\n",
       "    .dataframe thead th {\n",
       "        text-align: right;\n",
       "    }\n",
       "</style>\n",
       "<table border=\"1\" class=\"dataframe\">\n",
       "  <thead>\n",
       "    <tr style=\"text-align: right;\">\n",
       "      <th></th>\n",
       "      <th>0</th>\n",
       "      <th>1</th>\n",
       "      <th>2</th>\n",
       "      <th>3</th>\n",
       "      <th>4</th>\n",
       "      <th>5</th>\n",
       "      <th>6</th>\n",
       "      <th>7</th>\n",
       "      <th>8</th>\n",
       "    </tr>\n",
       "  </thead>\n",
       "  <tbody>\n",
       "    <tr>\n",
       "      <th>0</th>\n",
       "      <td>MSG</td>\n",
       "      <td>3387245</td>\n",
       "      <td>C_GW_1_1_UD_UD</td>\n",
       "      <td>None</td>\n",
       "      <td>None</td>\n",
       "      <td>None</td>\n",
       "      <td>None</td>\n",
       "      <td>None</td>\n",
       "      <td>None</td>\n",
       "    </tr>\n",
       "    <tr>\n",
       "      <th>1</th>\n",
       "      <td>MSG</td>\n",
       "      <td>3390421</td>\n",
       "      <td>F_GW_1_1_10_0</td>\n",
       "      <td>None</td>\n",
       "      <td>None</td>\n",
       "      <td>None</td>\n",
       "      <td>None</td>\n",
       "      <td>None</td>\n",
       "      <td>None</td>\n",
       "    </tr>\n",
       "    <tr>\n",
       "      <th>2</th>\n",
       "      <td>MSG</td>\n",
       "      <td>3392759</td>\n",
       "      <td>C_NW_1_2_UD_UD</td>\n",
       "      <td>None</td>\n",
       "      <td>None</td>\n",
       "      <td>None</td>\n",
       "      <td>None</td>\n",
       "      <td>None</td>\n",
       "      <td>None</td>\n",
       "    </tr>\n",
       "    <tr>\n",
       "      <th>3</th>\n",
       "      <td>MSG</td>\n",
       "      <td>3394293</td>\n",
       "      <td>R_NW_1_2_UD_UD</td>\n",
       "      <td>None</td>\n",
       "      <td>None</td>\n",
       "      <td>None</td>\n",
       "      <td>None</td>\n",
       "      <td>None</td>\n",
       "      <td>None</td>\n",
       "    </tr>\n",
       "    <tr>\n",
       "      <th>4</th>\n",
       "      <td>MSG</td>\n",
       "      <td>3395952</td>\n",
       "      <td>F_NW_1_2_-1_0</td>\n",
       "      <td>None</td>\n",
       "      <td>None</td>\n",
       "      <td>None</td>\n",
       "      <td>None</td>\n",
       "      <td>None</td>\n",
       "      <td>None</td>\n",
       "    </tr>\n",
       "    <tr>\n",
       "      <th>...</th>\n",
       "      <td>...</td>\n",
       "      <td>...</td>\n",
       "      <td>...</td>\n",
       "      <td>...</td>\n",
       "      <td>...</td>\n",
       "      <td>...</td>\n",
       "      <td>...</td>\n",
       "      <td>...</td>\n",
       "      <td>...</td>\n",
       "    </tr>\n",
       "    <tr>\n",
       "      <th>1065</th>\n",
       "      <td>MSG</td>\n",
       "      <td>5893078</td>\n",
       "      <td>V_UD_UD_16_UD_UD</td>\n",
       "      <td>None</td>\n",
       "      <td>None</td>\n",
       "      <td>None</td>\n",
       "      <td>None</td>\n",
       "      <td>None</td>\n",
       "      <td>None</td>\n",
       "    </tr>\n",
       "    <tr>\n",
       "      <th>1066</th>\n",
       "      <td>MSG</td>\n",
       "      <td>5899076</td>\n",
       "      <td>V_UD_UD_17_UD_UD</td>\n",
       "      <td>None</td>\n",
       "      <td>None</td>\n",
       "      <td>None</td>\n",
       "      <td>None</td>\n",
       "      <td>None</td>\n",
       "      <td>None</td>\n",
       "    </tr>\n",
       "    <tr>\n",
       "      <th>1067</th>\n",
       "      <td>MSG</td>\n",
       "      <td>5905073</td>\n",
       "      <td>V_UD_UD_18_UD_UD</td>\n",
       "      <td>None</td>\n",
       "      <td>None</td>\n",
       "      <td>None</td>\n",
       "      <td>None</td>\n",
       "      <td>None</td>\n",
       "      <td>None</td>\n",
       "    </tr>\n",
       "    <tr>\n",
       "      <th>1068</th>\n",
       "      <td>MSG</td>\n",
       "      <td>5911072</td>\n",
       "      <td>V_UD_UD_19_UD_UD</td>\n",
       "      <td>None</td>\n",
       "      <td>None</td>\n",
       "      <td>None</td>\n",
       "      <td>None</td>\n",
       "      <td>None</td>\n",
       "      <td>None</td>\n",
       "    </tr>\n",
       "    <tr>\n",
       "      <th>1069</th>\n",
       "      <td>MSG</td>\n",
       "      <td>5917071</td>\n",
       "      <td>V_UD_UD_20_UD_UD</td>\n",
       "      <td>None</td>\n",
       "      <td>None</td>\n",
       "      <td>None</td>\n",
       "      <td>None</td>\n",
       "      <td>None</td>\n",
       "      <td>None</td>\n",
       "    </tr>\n",
       "  </tbody>\n",
       "</table>\n",
       "<p>1070 rows × 9 columns</p>\n",
       "</div>"
      ],
      "text/plain": [
       "        0        1                 2     3     4     5     6     7     8\n",
       "0     MSG  3387245    C_GW_1_1_UD_UD  None  None  None  None  None  None\n",
       "1     MSG  3390421     F_GW_1_1_10_0  None  None  None  None  None  None\n",
       "2     MSG  3392759    C_NW_1_2_UD_UD  None  None  None  None  None  None\n",
       "3     MSG  3394293    R_NW_1_2_UD_UD  None  None  None  None  None  None\n",
       "4     MSG  3395952     F_NW_1_2_-1_0  None  None  None  None  None  None\n",
       "...   ...      ...               ...   ...   ...   ...   ...   ...   ...\n",
       "1065  MSG  5893078  V_UD_UD_16_UD_UD  None  None  None  None  None  None\n",
       "1066  MSG  5899076  V_UD_UD_17_UD_UD  None  None  None  None  None  None\n",
       "1067  MSG  5905073  V_UD_UD_18_UD_UD  None  None  None  None  None  None\n",
       "1068  MSG  5911072  V_UD_UD_19_UD_UD  None  None  None  None  None  None\n",
       "1069  MSG  5917071  V_UD_UD_20_UD_UD  None  None  None  None  None  None\n",
       "\n",
       "[1070 rows x 9 columns]"
      ]
     },
     "execution_count": 10,
     "metadata": {},
     "output_type": "execute_result"
    }
   ],
   "source": [
    "df_ev=pd.DataFrame([ev.split() for ev in events])\n",
    "df_ev"
   ]
  },
  {
   "cell_type": "markdown",
   "metadata": {},
   "source": [
    "In this table, the second column contains the time-stamp (identical to the time-stamp in the samples file), and the third column contains our custom markers (the format like \"C_GW_1_1_UD_UD\" and so on is specific for our experimental design). There are many more columns which seem to contain no information in our samples. Let's check what those columns are for by printing the rows in our data-frame where these columns are not `None`:"
   ]
  },
  {
   "cell_type": "code",
   "execution_count": 11,
   "metadata": {},
   "outputs": [
    {
     "data": {
      "text/html": [
       "<div>\n",
       "<style scoped>\n",
       "    .dataframe tbody tr th:only-of-type {\n",
       "        vertical-align: middle;\n",
       "    }\n",
       "\n",
       "    .dataframe tbody tr th {\n",
       "        vertical-align: top;\n",
       "    }\n",
       "\n",
       "    .dataframe thead th {\n",
       "        text-align: right;\n",
       "    }\n",
       "</style>\n",
       "<table border=\"1\" class=\"dataframe\">\n",
       "  <thead>\n",
       "    <tr style=\"text-align: right;\">\n",
       "      <th></th>\n",
       "      <th>0</th>\n",
       "      <th>1</th>\n",
       "      <th>2</th>\n",
       "      <th>3</th>\n",
       "      <th>4</th>\n",
       "      <th>5</th>\n",
       "      <th>6</th>\n",
       "      <th>7</th>\n",
       "      <th>8</th>\n",
       "    </tr>\n",
       "  </thead>\n",
       "  <tbody>\n",
       "    <tr>\n",
       "      <th>209</th>\n",
       "      <td>MSG</td>\n",
       "      <td>3900393</td>\n",
       "      <td>RECCFG</td>\n",
       "      <td>CR</td>\n",
       "      <td>500</td>\n",
       "      <td>2</td>\n",
       "      <td>1</td>\n",
       "      <td>LR</td>\n",
       "      <td>None</td>\n",
       "    </tr>\n",
       "    <tr>\n",
       "      <th>211</th>\n",
       "      <td>MSG</td>\n",
       "      <td>3900393</td>\n",
       "      <td>GAZE_COORDS</td>\n",
       "      <td>0.00</td>\n",
       "      <td>0.00</td>\n",
       "      <td>1919.00</td>\n",
       "      <td>1079.00</td>\n",
       "      <td>None</td>\n",
       "      <td>None</td>\n",
       "    </tr>\n",
       "    <tr>\n",
       "      <th>212</th>\n",
       "      <td>MSG</td>\n",
       "      <td>3900393</td>\n",
       "      <td>THRESHOLDS</td>\n",
       "      <td>L</td>\n",
       "      <td>56</td>\n",
       "      <td>231</td>\n",
       "      <td>R</td>\n",
       "      <td>66</td>\n",
       "      <td>239</td>\n",
       "    </tr>\n",
       "    <tr>\n",
       "      <th>213</th>\n",
       "      <td>MSG</td>\n",
       "      <td>3900393</td>\n",
       "      <td>ELCL_WINDOW_SIZES</td>\n",
       "      <td>176</td>\n",
       "      <td>188</td>\n",
       "      <td>0</td>\n",
       "      <td>0</td>\n",
       "      <td>None</td>\n",
       "      <td>None</td>\n",
       "    </tr>\n",
       "    <tr>\n",
       "      <th>215</th>\n",
       "      <td>MSG</td>\n",
       "      <td>3900393</td>\n",
       "      <td>ELCL_PROC</td>\n",
       "      <td>CENTROID</td>\n",
       "      <td>(3)</td>\n",
       "      <td>None</td>\n",
       "      <td>None</td>\n",
       "      <td>None</td>\n",
       "      <td>None</td>\n",
       "    </tr>\n",
       "  </tbody>\n",
       "</table>\n",
       "</div>"
      ],
      "text/plain": [
       "       0        1                  2         3     4        5        6     7  \\\n",
       "209  MSG  3900393             RECCFG        CR   500        2        1    LR   \n",
       "211  MSG  3900393        GAZE_COORDS      0.00  0.00  1919.00  1079.00  None   \n",
       "212  MSG  3900393         THRESHOLDS         L    56      231        R    66   \n",
       "213  MSG  3900393  ELCL_WINDOW_SIZES       176   188        0        0  None   \n",
       "215  MSG  3900393          ELCL_PROC  CENTROID   (3)     None     None  None   \n",
       "\n",
       "        8  \n",
       "209  None  \n",
       "211  None  \n",
       "212   239  \n",
       "213  None  \n",
       "215  None  "
      ]
     },
     "execution_count": 11,
     "metadata": {},
     "output_type": "execute_result"
    }
   ],
   "source": [
    "df_ev[np.array(df_ev[4])!=None].head()"
   ]
  },
  {
   "cell_type": "markdown",
   "metadata": {},
   "source": [
    "Apparently, there are more eye-tracker specific markers in our files (in this case due to drift-checks during the experiments). We can safely drop those from our set of interesting events by dropping all rows in which the fourth column is not `None` and then dropping all non-interesting columns."
   ]
  },
  {
   "cell_type": "code",
   "execution_count": 12,
   "metadata": {},
   "outputs": [
    {
     "data": {
      "text/html": [
       "<div>\n",
       "<style scoped>\n",
       "    .dataframe tbody tr th:only-of-type {\n",
       "        vertical-align: middle;\n",
       "    }\n",
       "\n",
       "    .dataframe tbody tr th {\n",
       "        vertical-align: top;\n",
       "    }\n",
       "\n",
       "    .dataframe thead th {\n",
       "        text-align: right;\n",
       "    }\n",
       "</style>\n",
       "<table border=\"1\" class=\"dataframe\">\n",
       "  <thead>\n",
       "    <tr style=\"text-align: right;\">\n",
       "      <th></th>\n",
       "      <th>time</th>\n",
       "      <th>event</th>\n",
       "    </tr>\n",
       "  </thead>\n",
       "  <tbody>\n",
       "    <tr>\n",
       "      <th>0</th>\n",
       "      <td>3387245</td>\n",
       "      <td>C_GW_1_1_UD_UD</td>\n",
       "    </tr>\n",
       "    <tr>\n",
       "      <th>1</th>\n",
       "      <td>3390421</td>\n",
       "      <td>F_GW_1_1_10_0</td>\n",
       "    </tr>\n",
       "    <tr>\n",
       "      <th>2</th>\n",
       "      <td>3392759</td>\n",
       "      <td>C_NW_1_2_UD_UD</td>\n",
       "    </tr>\n",
       "    <tr>\n",
       "      <th>3</th>\n",
       "      <td>3394293</td>\n",
       "      <td>R_NW_1_2_UD_UD</td>\n",
       "    </tr>\n",
       "    <tr>\n",
       "      <th>4</th>\n",
       "      <td>3395952</td>\n",
       "      <td>F_NW_1_2_-1_0</td>\n",
       "    </tr>\n",
       "    <tr>\n",
       "      <th>...</th>\n",
       "      <td>...</td>\n",
       "      <td>...</td>\n",
       "    </tr>\n",
       "    <tr>\n",
       "      <th>1065</th>\n",
       "      <td>5893078</td>\n",
       "      <td>V_UD_UD_16_UD_UD</td>\n",
       "    </tr>\n",
       "    <tr>\n",
       "      <th>1066</th>\n",
       "      <td>5899076</td>\n",
       "      <td>V_UD_UD_17_UD_UD</td>\n",
       "    </tr>\n",
       "    <tr>\n",
       "      <th>1067</th>\n",
       "      <td>5905073</td>\n",
       "      <td>V_UD_UD_18_UD_UD</td>\n",
       "    </tr>\n",
       "    <tr>\n",
       "      <th>1068</th>\n",
       "      <td>5911072</td>\n",
       "      <td>V_UD_UD_19_UD_UD</td>\n",
       "    </tr>\n",
       "    <tr>\n",
       "      <th>1069</th>\n",
       "      <td>5917071</td>\n",
       "      <td>V_UD_UD_20_UD_UD</td>\n",
       "    </tr>\n",
       "  </tbody>\n",
       "</table>\n",
       "<p>1035 rows × 2 columns</p>\n",
       "</div>"
      ],
      "text/plain": [
       "         time             event\n",
       "0     3387245    C_GW_1_1_UD_UD\n",
       "1     3390421     F_GW_1_1_10_0\n",
       "2     3392759    C_NW_1_2_UD_UD\n",
       "3     3394293    R_NW_1_2_UD_UD\n",
       "4     3395952     F_NW_1_2_-1_0\n",
       "...       ...               ...\n",
       "1065  5893078  V_UD_UD_16_UD_UD\n",
       "1066  5899076  V_UD_UD_17_UD_UD\n",
       "1067  5905073  V_UD_UD_18_UD_UD\n",
       "1068  5911072  V_UD_UD_19_UD_UD\n",
       "1069  5917071  V_UD_UD_20_UD_UD\n",
       "\n",
       "[1035 rows x 2 columns]"
      ]
     },
     "execution_count": 12,
     "metadata": {},
     "output_type": "execute_result"
    }
   ],
   "source": [
    "df_ev=df_ev[np.array(df_ev[4])==None][[1,2]]\n",
    "df_ev.columns=[\"time\", \"event\"]\n",
    "df_ev"
   ]
  },
  {
   "cell_type": "markdown",
   "metadata": {},
   "source": [
    "Finally, we can pass those event-markers into our `PupilData`-object."
   ]
  },
  {
   "cell_type": "code",
   "execution_count": 13,
   "metadata": {},
   "outputs": [
    {
     "data": {
      "text/plain": [
       "PupilData(test):\n",
       " n                 : 1245363\n",
       " nmiss             : 189325\n",
       " perc_miss         : 15.202394803764044\n",
       " nevents           : 1035\n",
       " nblinks           : 0\n",
       " ninterpolated     : 0\n",
       " blinks_per_min    : 0.0\n",
       " fs                : 500.0\n",
       " duration_minutes  : 41.512100000000004\n",
       " start_min         : 56.431666666666665\n",
       " end_min           : 98.7178\n",
       " baseline_estimated: False\n",
       " response_estimated: False"
      ]
     },
     "execution_count": 13,
     "metadata": {},
     "output_type": "execute_result"
    }
   ],
   "source": [
    "d=pp.PupilData(df.right_p, time=df.time, event_onsets=df_ev.time, event_labels=df_ev.event, name=\"test\")\n",
    "d"
   ]
  },
  {
   "cell_type": "markdown",
   "metadata": {},
   "source": [
    "The summary of the dataset shows us that the eyetracker started recording at time=56.4 minutes. We can reset the time index to start with 0 by using the `reset_time()` function."
   ]
  },
  {
   "cell_type": "code",
   "execution_count": 18,
   "metadata": {},
   "outputs": [
    {
     "data": {
      "text/plain": [
       "PupilData(test):\n",
       " n                 : 1245363\n",
       " nmiss             : 189325\n",
       " perc_miss         : 15.202394803764044\n",
       " nevents           : 1035\n",
       " nblinks           : 569\n",
       " ninterpolated     : 0\n",
       " blinks_per_min    : 13.706846919331953\n",
       " fs                : 500.0\n",
       " duration_minutes  : 41.512100000000004\n",
       " start_min         : 0.0\n",
       " end_min           : 42.28613333333333\n",
       " baseline_estimated: False\n",
       " response_estimated: False"
      ]
     },
     "execution_count": 18,
     "metadata": {},
     "output_type": "execute_result"
    }
   ],
   "source": [
    "d.reset_time().blinks_detect()"
   ]
  },
  {
   "cell_type": "markdown",
   "metadata": {},
   "source": [
    "Now we can store away this dataset in `pypillometry`-format and use all the `pypillometry`-functions on it, e.g., plot a minute of this dataset."
   ]
  },
  {
   "cell_type": "code",
   "execution_count": 6,
   "metadata": {},
   "outputs": [],
   "source": [
    "d.write_file(\"../data/test.pd\")"
   ]
  },
  {
   "cell_type": "code",
   "execution_count": 21,
   "metadata": {},
   "outputs": [
    {
     "data": {
      "image/png": "[encoded data removed]",
      "text/plain": [
       "<Figure size 1080x360 with 1 Axes>"
      ]
     },
     "metadata": {
      "needs_background": "light"
     },
     "output_type": "display_data"
    }
   ],
   "source": [
    "plt.figure(figsize=(15,5)); \n",
    "d.plot((4, 5), units=\"min\")"
   ]
  }
 ],
 "metadata": {
  "hide_input": false,
  "kernelspec": {
   "display_name": "Python 3",
   "language": "python",
   "name": "python3"
  },
  "language_info": {
   "codemirror_mode": {
    "name": "ipython",
    "version": 3
   },
   "file_extension": ".py",
   "mimetype": "text/x-python",
   "name": "python",
   "nbconvert_exporter": "python",
   "pygments_lexer": "ipython3",
   "version": "3.7.4"
  }
 },
 "nbformat": 4,
 "nbformat_minor": 2
}
